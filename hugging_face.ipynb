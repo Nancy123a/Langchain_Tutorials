{
 "cells": [
  {
   "cell_type": "code",
   "execution_count": 9,
   "id": "4275e716",
   "metadata": {},
   "outputs": [],
   "source": [
    "from langchain.prompts import PromptTemplate\n",
    "from langchain_openai import OpenAI\n",
    "import os\n",
    "from constants import openai_key\n",
    "\n",
    "os.environ['OPENAI_API_KEY']=openai_key\n",
    "\n",
    "llm=OpenAI(temperature=0.3)\n",
    "prompt_template=PromptTemplate(input_variables=['country'],\n",
    "                               template='Tell me capital of {country}')\n",
    "chain = prompt_template | llm\n",
    "output = chain.invoke({'country': 'India'})"
   ]
  },
  {
   "cell_type": "code",
   "execution_count": 10,
   "id": "94491521",
   "metadata": {},
   "outputs": [
    {
     "data": {
      "text/plain": [
       "'\\n\\nThe capital of India is New Delhi.'"
      ]
     },
     "execution_count": 10,
     "metadata": {},
     "output_type": "execute_result"
    }
   ],
   "source": [
    "output"
   ]
  },
  {
   "cell_type": "code",
   "execution_count": null,
   "id": "30057ea5",
   "metadata": {},
   "outputs": [
    {
     "name": "stderr",
     "output_type": "stream",
     "text": [
      "/var/folders/r7/xbd75fl13wvf24ktcp53cf1h0000gn/T/ipykernel_50330/272419207.py:3: LangChainDeprecationWarning: The class `LLMChain` was deprecated in LangChain 0.1.17 and will be removed in 1.0. Use :meth:`~RunnableSequence, e.g., `prompt | llm`` instead.\n",
      "  chain1_llmchain = LLMChain(llm=llm, prompt=prompt_template)\n",
      "/var/folders/r7/xbd75fl13wvf24ktcp53cf1h0000gn/T/ipykernel_50330/272419207.py:4: LangChainDeprecationWarning: The method `Chain.run` was deprecated in langchain 0.1.0 and will be removed in 1.0. Use :meth:`~invoke` instead.\n",
      "  chain1_llmchain.run('India')\n"
     ]
    },
    {
     "data": {
      "text/plain": [
       "'\\n\\nThe capital of India is New Delhi.'"
      ]
     },
     "execution_count": 11,
     "metadata": {},
     "output_type": "execute_result"
    }
   ],
   "source": [
    "## Prompt template and LLM chains\n",
    "from langchain.chains import LLMChain\n",
    "\n",
    "chain1_llmchain = LLMChain(llm=llm, prompt=prompt_template)\n",
    "chain1_llmchain.run('India')"
   ]
  },
  {
   "cell_type": "code",
   "execution_count": 12,
   "id": "867c82fc",
   "metadata": {},
   "outputs": [
    {
     "data": {
      "text/plain": [
       "\" Some amazing places to visit in New Delhi are:\\n\\n1. Red Fort - a historic fort built by Mughal Emperor Shah Jahan, known for its beautiful architecture and light and sound show.\\n\\n2. Qutub Minar - a UNESCO World Heritage Site and the tallest brick minaret in the world, built in the 12th century.\\n\\n3. India Gate - a war memorial dedicated to the soldiers who died during World War I, with a beautiful garden and a popular picnic spot.\\n\\n4. Lotus Temple - a Bahá'í House of Worship known for its unique lotus-shaped architecture and serene atmosphere.\\n\\n5. Humayun's Tomb - a magnificent tomb of Mughal Emperor Humayun, with beautiful gardens and intricate architecture.\\n\\n6. Akshardham Temple - a stunning Hindu temple complex known for its grand architecture, beautiful gardens, and light and sound show.\\n\\n7. Jama Masjid - one of the largest and most famous mosques in India, built by Mughal Emperor Shah Jahan.\\n\\n8. Chandni Chowk - a bustling market in Old Delhi known for its narrow lanes, street food, and traditional bazaars.\\n\\n9. Rashtrapati Bhavan - the official residence of the President of India, with beautiful gardens and a\""
      ]
     },
     "execution_count": 12,
     "metadata": {},
     "output_type": "execute_result"
    }
   ],
   "source": [
    "## Combining multiple chains using sequential chains\n",
    "from langchain.chains import SimpleSequentialChain\n",
    "\n",
    "capital_template=PromptTemplate(input_variables=['country'],\n",
    "                               template='Tell me capital of {country}')\n",
    "\n",
    "chain1_llmchain = LLMChain(llm=llm, prompt=capital_template)\n",
    "\n",
    "\n",
    "famous_template=PromptTemplate(input_variables=['capital'],\n",
    "                               template='Suggest me some amazing places to visit in {capital}')\n",
    "\n",
    "chain2_llmchain = LLMChain(llm=llm, prompt=famous_template)\n",
    "\n",
    "chain=SimpleSequentialChain(chains=[chain1_llmchain,chain2_llmchain])\n",
    "\n",
    "chain.run('India')"
   ]
  },
  {
   "cell_type": "code",
   "execution_count": 14,
   "id": "228588b1",
   "metadata": {},
   "outputs": [
    {
     "name": "stderr",
     "output_type": "stream",
     "text": [
      "/var/folders/r7/xbd75fl13wvf24ktcp53cf1h0000gn/T/ipykernel_50330/486835000.py:19: LangChainDeprecationWarning: The method `Chain.__call__` was deprecated in langchain 0.1.0 and will be removed in 1.0. Use :meth:`~invoke` instead.\n",
      "  chain({'India'})\n"
     ]
    },
    {
     "data": {
      "text/plain": [
       "{'country': {'India'},\n",
       " 'capital': '\\n\\nThe capital of India is New Delhi.',\n",
       " 'places': \" Here are some amazing places to visit in New Delhi:\\n\\n1. Red Fort - This iconic monument is a must-visit for its stunning architecture and historical significance.\\n\\n2. Qutub Minar - Another famous monument in Delhi, this 73-meter tall tower is a UNESCO World Heritage Site.\\n\\n3. India Gate - This war memorial is a popular spot for picnics and evening strolls.\\n\\n4. Humayun's Tomb - This beautiful mausoleum is a blend of Persian and Mughal architecture and is a UNESCO World Heritage Site.\\n\\n5. Lotus Temple - This stunning temple is shaped like a lotus flower and is a symbol of peace and unity.\\n\\n6. Jama Masjid - One of the largest mosques in India, Jama Masjid is known for its grand architecture and beautiful courtyard.\\n\\n7. Chandni Chowk - This bustling market in Old Delhi is a paradise for foodies and shoppers.\\n\\n8. Akshardham Temple - This modern temple complex is a popular tourist attraction for its stunning architecture and cultural exhibitions.\\n\\n9. Rashtrapati Bhavan - The official residence of the President of India, this grand building is a must-visit for its beautiful gardens and architecture.\\n\\n10. National Gallery of Modern Art - Art lovers must visit this museum\"}"
      ]
     },
     "execution_count": 14,
     "metadata": {},
     "output_type": "execute_result"
    }
   ],
   "source": [
    "## chatmodel openai\n",
    "## Sequential Chain\n",
    "from langchain.chains import SequentialChain\n",
    "\n",
    "capital_template=PromptTemplate(input_variables=['country'],\n",
    "                               template='Tell me capital of {country}')\n",
    "\n",
    "chain1_llmchain = LLMChain(llm=llm, prompt=capital_template,output_key=\"capital\")\n",
    "\n",
    "famous_template=PromptTemplate(input_variables=['capital'],\n",
    "                               template='Suggest me some amazing places to visit in {capital}')\n",
    "\n",
    "chain2_llmchain = LLMChain(llm=llm, prompt=famous_template,output_key='places')\n",
    "\n",
    "chain=SequentialChain(chains=[chain1_llmchain,chain2_llmchain],input_variables=['country'],\n",
    "                      output_variables=['capital','places'])\n",
    "\n",
    "\n",
    "chain({'India'})"
   ]
  },
  {
   "cell_type": "code",
   "execution_count": 15,
   "id": "236f42d3",
   "metadata": {},
   "outputs": [
    {
     "name": "stderr",
     "output_type": "stream",
     "text": [
      "/var/folders/r7/xbd75fl13wvf24ktcp53cf1h0000gn/T/ipykernel_50330/1562889450.py:5: LangChainDeprecationWarning: The class `ChatOpenAI` was deprecated in LangChain 0.0.10 and will be removed in 1.0. An updated version of the class exists in the :class:`~langchain-openai package and should be used instead. To use it run `pip install -U :class:`~langchain-openai` and import as `from :class:`~langchain_openai import ChatOpenAI``.\n",
      "  chat_llm=ChatOpenAI(temperature=0.6,model='gpt-3.5-turbo')\n"
     ]
    }
   ],
   "source": [
    "## chatmodels with openai\n",
    "from langchain.chat_models import ChatOpenAI\n",
    "from langchain.schema import HumanMessage,SystemMessage,AIMessage\n",
    "\n",
    "chat_llm=ChatOpenAI(temperature=0.6,model='gpt-3.5-turbo')\n"
   ]
  },
  {
   "cell_type": "code",
   "execution_count": 16,
   "id": "28d978af",
   "metadata": {},
   "outputs": [
    {
     "name": "stderr",
     "output_type": "stream",
     "text": [
      "/var/folders/r7/xbd75fl13wvf24ktcp53cf1h0000gn/T/ipykernel_50330/676601873.py:1: LangChainDeprecationWarning: The method `BaseChatModel.__call__` was deprecated in langchain-core 0.1.7 and will be removed in 1.0. Use :meth:`~invoke` instead.\n",
      "  chat_llm([\n"
     ]
    },
    {
     "data": {
      "text/plain": [
       "AIMessage(content='1. \"I asked my AI assistant to tell me a joke, and it replied, \\'I\\'m sorry, I am unable to compute humor. But I can order you a pizza!\\'\"\\n2. \"I tried teaching my AI assistant sarcasm, but it just responded with, \\'Oh, great. Another human trying to be funny.\\'\"\\n3. \"My AI assistant told me it was feeling down, so I said, \\'Cheer up, at least you don\\'t have to worry about getting a virus!\\'\"\\n4. \"I told my AI assistant I was feeling lazy, and it replied, \\'Don\\'t worry, I\\'ll do all the heavy lifting...of your search queries.\\'\"\\n5. \"I asked my AI assistant if it had any dating advice, and it said, \\'Just remember, love is like software updates – it\\'s important to keep things current.\\'\"', additional_kwargs={}, response_metadata={'token_usage': {'completion_tokens': 179, 'prompt_tokens': 25, 'total_tokens': 204, 'completion_tokens_details': {'accepted_prediction_tokens': 0, 'audio_tokens': 0, 'reasoning_tokens': 0, 'rejected_prediction_tokens': 0}, 'prompt_tokens_details': {'audio_tokens': 0, 'cached_tokens': 0}}, 'model_name': 'gpt-3.5-turbo', 'system_fingerprint': None, 'finish_reason': 'stop', 'logprobs': None}, id='run--4903e953-ef4b-4a35-8edf-4e2ab7ffa0d3-0')"
      ]
     },
     "execution_count": 16,
     "metadata": {},
     "output_type": "execute_result"
    }
   ],
   "source": [
    "chat_llm([\n",
    "    SystemMessage(content=\"You are a comedian AI assistant\"),\n",
    "    HumanMessage(content=\"Please provide some comedy punchlines on AI\")\n",
    "])"
   ]
  },
  {
   "cell_type": "code",
   "execution_count": 17,
   "id": "731d74b8",
   "metadata": {},
   "outputs": [],
   "source": [
    "## Prompt template + LLM + Output Parsers\n",
    "\n",
    "from langchain.chat_models import ChatOpenAI\n",
    "from langchain.prompts.chat import ChatPromptTemplate\n",
    "from langchain.schema import BaseOutputParser\n",
    "\n",
    "class Commaseparatedoutput(BaseOutputParser):\n",
    "    def parse(self, text):\n",
    "        return text.strip().split(',')\n",
    "    "
   ]
  },
  {
   "cell_type": "code",
   "execution_count": 20,
   "id": "465cfa39",
   "metadata": {},
   "outputs": [],
   "source": [
    "template='You are helpful assistant. When the use give an input, you should generate 5 words it should be comma separated'\n",
    "human_template='{text}'\n",
    "chat_prompt=ChatPromptTemplate.from_messages([\n",
    "    (\"system\",template),\n",
    "    (\"human\",human_template)\n",
    "])"
   ]
  },
  {
   "cell_type": "code",
   "execution_count": 21,
   "id": "4787bd90",
   "metadata": {},
   "outputs": [],
   "source": [
    "chain=chat_prompt | chat_llm | Commaseparatedoutput()"
   ]
  },
  {
   "cell_type": "code",
   "execution_count": 22,
   "id": "32b51cd8",
   "metadata": {},
   "outputs": [
    {
     "data": {
      "text/plain": [
       "['smart', ' clever', ' bright', ' astute', ' knowledgeable']"
      ]
     },
     "execution_count": 22,
     "metadata": {},
     "output_type": "execute_result"
    }
   ],
   "source": [
    "chain.invoke({\"text\":\"intelligent\"})"
   ]
  },
  {
   "cell_type": "code",
   "execution_count": null,
   "id": "ef5a2bfc",
   "metadata": {},
   "outputs": [],
   "source": []
  }
 ],
 "metadata": {
  "kernelspec": {
   "display_name": "Python 3",
   "language": "python",
   "name": "python3"
  },
  "language_info": {
   "codemirror_mode": {
    "name": "ipython",
    "version": 3
   },
   "file_extension": ".py",
   "mimetype": "text/x-python",
   "name": "python",
   "nbconvert_exporter": "python",
   "pygments_lexer": "ipython3",
   "version": "3.12.0"
  }
 },
 "nbformat": 4,
 "nbformat_minor": 5
}
