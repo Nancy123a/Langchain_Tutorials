{
 "cells": [
  {
   "cell_type": "code",
   "execution_count": 6,
   "id": "4cb3656a",
   "metadata": {},
   "outputs": [],
   "source": [
    "import os\n",
    "from constants import openai_key\n",
    "from langchain import PromptTemplate, FewShotPromptTemplate\n",
    "from langchain.llms import OpenAI\n",
    "from langchain.chains import LLMChain"
   ]
  },
  {
   "cell_type": "code",
   "execution_count": 9,
   "id": "0ceea04b",
   "metadata": {},
   "outputs": [
    {
     "name": "stderr",
     "output_type": "stream",
     "text": [
      "/var/folders/r7/xbd75fl13wvf24ktcp53cf1h0000gn/T/ipykernel_45000/1403628156.py:11: LangChainDeprecationWarning: The class `LLMChain` was deprecated in LangChain 0.1.17 and will be removed in 1.0. Use :meth:`~RunnableSequence, e.g., `prompt | llm`` instead.\n",
      "  chain1=LLMChain(llm=llm,prompt=prompt)\n",
      "/var/folders/r7/xbd75fl13wvf24ktcp53cf1h0000gn/T/ipykernel_45000/1403628156.py:12: LangChainDeprecationWarning: The method `Chain.run` was deprecated in langchain 0.1.0 and will be removed in 1.0. Use :meth:`~invoke` instead.\n",
      "  chain1.run('income tax')\n"
     ]
    },
    {
     "data": {
      "text/plain": [
       "\"\\n\\nSure, I'd be happy to explain the basics of income tax to you.\\n\\nIncome tax is a type of tax that is imposed by the government on individuals and businesses based on their income or profits. It is a way for the government to collect money to fund public services and programs.\\n\\nThe amount of income tax you owe is determined by your taxable income, which is your total income minus any deductions or exemptions you may qualify for. The tax rate you pay is also based on your income level, with higher income earners typically paying a higher tax rate.\\n\\nThere are different types of income that are subject to taxation, such as wages, salaries, tips, interest from savings accounts, dividends from investments, and profits from selling assets.\\n\\nTo determine your taxable income, you will need to file a tax return with the government every year. This is where you report all your income and any deductions or exemptions you may have. For most individuals, this is done through a form called a 1040.\\n\\nIf you are an employee, your employer will typically withhold a portion of your income for taxes throughout the year. This is known as withholding and it is based on the information you provide on your W-4 form. At the end of the year, your employer will provide you with a\""
      ]
     },
     "execution_count": 9,
     "metadata": {},
     "output_type": "execute_result"
    }
   ],
   "source": [
    "os.environ['OPENAI_API_KEY'] = openai_key\n",
    "\n",
    "## Example 1\n",
    "demo_template='''I want you to act as a financial advisor for poople. In an easy way, explain the basics of {financial_concept}'''\n",
    "\n",
    "prompt=PromptTemplate(input_variables=['financial_concept'],template=demo_template)\n",
    "\n",
    "prompt.format(financial_concept='income_tax')\n",
    "\n",
    "llm=OpenAI(temperature=0.7)\n",
    "chain1=LLMChain(llm=llm,prompt=prompt)\n",
    "chain1.run('income tax')"
   ]
  },
  {
   "cell_type": "code",
   "execution_count": 10,
   "id": "835f3ee1",
   "metadata": {},
   "outputs": [
    {
     "name": "stderr",
     "output_type": "stream",
     "text": [
      "/var/folders/r7/xbd75fl13wvf24ktcp53cf1h0000gn/T/ipykernel_45000/4122496502.py:9: LangChainDeprecationWarning: The method `Chain.__call__` was deprecated in langchain 0.1.0 and will be removed in 1.0. Use :meth:`~invoke` instead.\n",
      "  chain2({'sentence':\"Hello how are you\",\"target_language\":\"German\"})\n"
     ]
    },
    {
     "data": {
      "text/plain": [
       "{'sentence': 'Hello how are you',\n",
       " 'target_language': 'German',\n",
       " 'text': '\\n\\nHallo, wie geht es dir?'}"
      ]
     },
     "execution_count": 10,
     "metadata": {},
     "output_type": "execute_result"
    }
   ],
   "source": [
    "template='''In an easy way translate the following sentence '{sentence}' into {target_language}'''\n",
    "language_prompt=PromptTemplate(\n",
    "    input_variables=['sentence','target_language'],\n",
    "    template=template\n",
    ")\n",
    "\n",
    "language_prompt.format(sentence='How are you',target_language='German')\n",
    "chain2=LLMChain(llm=llm,prompt=language_prompt)\n",
    "chain2({'sentence':\"Hello how are you\",\"target_language\":\"German\"})\n",
    "## return json object of sentence, target_language, text"
   ]
  },
  {
   "cell_type": "code",
   "execution_count": 13,
   "id": "cdb4467a",
   "metadata": {},
   "outputs": [],
   "source": [
    "examples=[\n",
    "    {'word':'happy','antonym':'sad'},\n",
    "    {'word':'tall','antonym':'short'},\n",
    "]\n",
    "\n",
    "example_formatter_template=\"\"\"Word:{word} Antonym: {antonym}\"\"\"\n",
    "\n",
    "example_prompt=PromptTemplate(\n",
    "    input_variables=['word','antonym'],\n",
    "    template=example_formatter_template\n",
    ")\n",
    "\n",
    "## create few shot template\n",
    "few_shot_template=FewShotPromptTemplate(\n",
    "    ## examples we want to insert to template\n",
    "    examples=examples,\n",
    "    ## This is how we want to format the examples when we insert them into the prompt\n",
    "    example_prompt=example_prompt,\n",
    "    ## perfix is text that goes before the example in the prompt (instructions)\n",
    "    prefix='Give the antonym of every input\\n',\n",
    "    ## suffix is some text goes after the example in he prompt\n",
    "    ## where the user input will go\n",
    "    suffix='word:{input}\\nAntonym:',\n",
    "    ## the variables that the overall prompt expects\n",
    "    input_variables=['input'],\n",
    "    example_separator=\"\\n\",\n",
    ")\n",
    "\n"
   ]
  },
  {
   "cell_type": "code",
   "execution_count": 14,
   "id": "dc2e13c2",
   "metadata": {},
   "outputs": [
    {
     "name": "stdout",
     "output_type": "stream",
     "text": [
      "Give the antonym of every input\n",
      "\n",
      "Word:happy Antonym: sad\n",
      "Word:tall Antonym: short\n",
      "word:big\n",
      "Antonym:\n"
     ]
    }
   ],
   "source": [
    "print(few_shot_template.format(input='big'))"
   ]
  },
  {
   "cell_type": "code",
   "execution_count": 15,
   "id": "e1740808",
   "metadata": {},
   "outputs": [
    {
     "data": {
      "text/plain": [
       "{'input': 'big', 'text': ' small'}"
      ]
     },
     "execution_count": 15,
     "metadata": {},
     "output_type": "execute_result"
    }
   ],
   "source": [
    "chain=LLMChain(llm=llm,prompt=few_shot_template)\n",
    "chain({'input':'big'})"
   ]
  },
  {
   "cell_type": "code",
   "execution_count": 16,
   "id": "db21c0ea",
   "metadata": {},
   "outputs": [
    {
     "data": {
      "text/plain": [
       "' small'"
      ]
     },
     "execution_count": 16,
     "metadata": {},
     "output_type": "execute_result"
    }
   ],
   "source": [
    "chain.run('big')"
   ]
  }
 ],
 "metadata": {
  "kernelspec": {
   "display_name": "Python 3",
   "language": "python",
   "name": "python3"
  },
  "language_info": {
   "codemirror_mode": {
    "name": "ipython",
    "version": 3
   },
   "file_extension": ".py",
   "mimetype": "text/x-python",
   "name": "python",
   "nbconvert_exporter": "python",
   "pygments_lexer": "ipython3",
   "version": "3.12.0"
  }
 },
 "nbformat": 4,
 "nbformat_minor": 5
}
