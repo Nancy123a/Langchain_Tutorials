{
 "cells": [
  {
   "cell_type": "code",
   "execution_count": 4,
   "id": "249f439f",
   "metadata": {},
   "outputs": [
    {
     "data": {
      "text/plain": [
       "True"
      ]
     },
     "execution_count": 4,
     "metadata": {},
     "output_type": "execute_result"
    }
   ],
   "source": [
    "from dotenv import load_dotenv\n",
    "load_dotenv()"
   ]
  },
  {
   "cell_type": "code",
   "execution_count": 6,
   "id": "670762c9",
   "metadata": {},
   "outputs": [],
   "source": [
    "## gemini<. multimodel - trained on both text and images\n",
    "import pathlib\n",
    "import textwrap\n",
    "import os\n",
    "import google.generativeai as genai\n",
    "\n",
    "from IPython.display import display\n",
    "from IPython.display import Markdown\n",
    "\n",
    "os.environ['Google_Gemini_API'] = os.environ['google_gemini_api']\n",
    "\n",
    "def to_markdown(text):\n",
    "    text=text.replace('.','*')\n",
    "    return Markdown(textwrap.indent(text,'>',predicate=lambda _:True))\n",
    "\n"
   ]
  },
  {
   "cell_type": "code",
   "execution_count": 7,
   "id": "a4315cea",
   "metadata": {},
   "outputs": [],
   "source": [
    "genai.configure(api_key=os.environ['google_gemini_api'])"
   ]
  },
  {
   "cell_type": "code",
   "execution_count": 9,
   "id": "78402f6e",
   "metadata": {},
   "outputs": [
    {
     "name": "stdout",
     "output_type": "stream",
     "text": [
      "models/gemini-2.5-pro-preview-03-25\n",
      "models/gemini-2.5-flash-preview-05-20\n",
      "models/gemini-2.5-flash\n",
      "models/gemini-2.5-flash-lite-preview-06-17\n",
      "models/gemini-2.5-pro-preview-05-06\n",
      "models/gemini-2.5-pro-preview-06-05\n",
      "models/gemini-2.5-pro\n",
      "models/gemini-2.0-flash-exp\n",
      "models/gemini-2.0-flash\n",
      "models/gemini-2.0-flash-001\n",
      "models/gemini-2.0-flash-lite-001\n",
      "models/gemini-2.0-flash-lite\n",
      "models/gemini-2.0-flash-lite-preview-02-05\n",
      "models/gemini-2.0-flash-lite-preview\n",
      "models/gemini-2.0-pro-exp\n",
      "models/gemini-2.0-pro-exp-02-05\n",
      "models/gemini-exp-1206\n",
      "models/gemini-2.0-flash-thinking-exp-01-21\n",
      "models/gemini-2.0-flash-thinking-exp\n",
      "models/gemini-2.0-flash-thinking-exp-1219\n",
      "models/gemini-2.5-flash-preview-tts\n",
      "models/gemini-2.5-pro-preview-tts\n",
      "models/learnlm-2.0-flash-experimental\n",
      "models/gemma-3-1b-it\n",
      "models/gemma-3-4b-it\n",
      "models/gemma-3-12b-it\n",
      "models/gemma-3-27b-it\n",
      "models/gemma-3n-e4b-it\n",
      "models/gemma-3n-e2b-it\n",
      "models/gemini-flash-latest\n",
      "models/gemini-flash-lite-latest\n",
      "models/gemini-pro-latest\n",
      "models/gemini-2.5-flash-lite\n",
      "models/gemini-2.5-flash-image-preview\n",
      "models/gemini-2.5-flash-image\n",
      "models/gemini-2.5-flash-preview-09-2025\n",
      "models/gemini-2.5-flash-lite-preview-09-2025\n",
      "models/gemini-robotics-er-1.5-preview\n"
     ]
    }
   ],
   "source": [
    "## gemini-pro: optimized for text only prompts\n",
    "## gemini pro vision: optimized for text and images prompts\n",
    "for m in genai.list_models():\n",
    "    if 'generateContent' in m.supported_generation_methods:\n",
    "        print(m.name)"
   ]
  },
  {
   "cell_type": "code",
   "execution_count": 12,
   "id": "56cb945a",
   "metadata": {},
   "outputs": [
    {
     "data": {
      "text/plain": [
       "genai.GenerativeModel(\n",
       "    model_name='models/gemini-2.5-pro',\n",
       "    generation_config={},\n",
       "    safety_settings={},\n",
       "    tools=None,\n",
       "    system_instruction=None,\n",
       "    cached_content=None\n",
       ")"
      ]
     },
     "execution_count": 12,
     "metadata": {},
     "output_type": "execute_result"
    }
   ],
   "source": [
    "## generate text from text inputs\n",
    "model=genai.GenerativeModel('models/gemini-2.5-pro')\n",
    "model"
   ]
  },
  {
   "cell_type": "code",
   "execution_count": 13,
   "id": "9f54dfa4",
   "metadata": {},
   "outputs": [
    {
     "data": {
      "text/plain": [
       "response:\n",
       "GenerateContentResponse(\n",
       "    done=True,\n",
       "    iterator=None,\n",
       "    result=protos.GenerateContentResponse({\n",
       "      \"candidates\": [\n",
       "        {\n",
       "          \"content\": {\n",
       "            \"parts\": [\n",
       "              {\n",
       "                \"text\": \"That is perhaps the most profound and persistent question humanity has ever asked. There is no single, universally accepted answer, and the search for one has been the driving force behind philosophy, religion, science, and art for millennia.\\n\\nInstead of providing one answer, it's more helpful to explore the different ways this question has been answered. These perspectives can be seen as different lenses through which to view your own life.\\n\\n### 1. The Philosophical Perspectives\\n\\nPhilosophy offers not answers, but frameworks for thinking about the question.\\n\\n*   **Aristotle and Eudaimonia:** For the ancient Greek philosopher Aristotle, the meaning of life isn't about a grand cosmic purpose, but about achieving *Eudaimonia*. This is often translated as \\\"happiness,\\\" but it's closer to \\\"human flourishing.\\\" A meaningful life is one lived with virtue, reason, and excellence, fulfilling one's potential as a human being.\\n*   **Existentialism (Sartre, Camus):** This modern school of thought proposes that \\\"existence precedes essence.\\\" This means you are not born with a pre-ordained purpose. You are born first\\u2014you exist\\u2014and then it is up to you to create your own meaning and essence through your choices and actions. For the existentialist, the meaning of life is to embrace freedom and live authentically, taking full responsibility for the meaning you build.\\n*   **Stoicism (Marcus Aurelius, Seneca):** For the Stoics, the meaning of life is to live in accordance with nature and reason. It's about focusing on what you can control (your thoughts, your actions) and accepting what you cannot. Meaning is found in virtue, inner peace, and resilience in the face of hardship.\\n*   **Nihilism:** This is the perspective that life has no intrinsic meaning, purpose, or value. While this can sound depressing, some people find it liberating. If there's no pre-written script, you are completely free.\\n\\n### 2. The Religious & Spiritual Perspectives\\n\\nMost religions provide a direct answer to the question, suggesting that meaning is given to us by a higher power.\\n\\n*   **Theistic Religions (Christianity, Islam, Judaism):** In these traditions, the meaning of life is generally to know, love, and serve God. Life is a test, a journey, or a preparation for an afterlife. Meaning is found in faith, following divine commandments, and living a life that is pleasing to the Creator.\\n*   **Eastern Religions (Buddhism, Hinduism):**\\n    *   In **Buddhism**, the purpose of life is to end suffering by eliminating desire and attachment, ultimately achieving a state of enlightenment and liberation known as Nirvana. Meaning is found in compassion, mindfulness, and the path to wisdom.\\n    *   In **Hinduism**, meaning is found in fulfilling one's *dharma* (duty or righteous path), understanding the law of *karma* (action and consequence), and ultimately achieving *moksha* (liberation from the cycle of reincarnation).\\n\\n### 3. The Scientific & Biological Perspective\\n\\nFrom a purely scientific standpoint, there is no inherent \\\"meaning\\\" to life.\\n\\n*   **Evolutionary Biology:** The \\\"purpose\\\" of life, in a biological sense, is to survive and reproduce. Organisms are vehicles for genes to pass from one generation to the next. In this view, humans are a product of natural selection, not a grand design.\\n*   **Cosmology:** The universe is vast, ancient, and appears indifferent to our existence. We are a fleeting, accidental phenomenon on a tiny planet. However, some find meaning in this very fact. As the astronomer Carl Sagan said, **\\\"We are a way for the cosmos to know itself.\\\"** Meaning can be found in our capacity for wonder, discovery, and understanding the universe we are a part of.\\n\\n### 4. The Humanistic & Psychological Perspective\\n\\nThis view focuses on the human experience and our innate drive to find meaning.\\n\\n*   **Viktor Frankl**, a psychiatrist and Holocaust survivor, argued in his book *Man's Search for Meaning* that the primary drive in life is not pleasure, but the discovery and pursuit of what we personally find meaningful. He identified three primary sources of meaning:\\n    1.  **Creation:** By creating a work or doing a deed.\\n    2.  **Connection:** By experiencing something or encountering someone (love).\\n    3.  **Resilience:** By the attitude we take toward unavoidable suffering.\\n*   **Humanism:** This perspective suggests that meaning is found in human relationships, in making the world a better place for the next generation, and in the pursuit of happiness, knowledge, and creativity for ourselves and for others.\\n\\n### So, What is the Answer for You?\\n\\nAs you can see, the \\\"meaning of life\\\" is not something you *find* like a lost key. It is something you **build**. It is a personal construction.\\n\\nPerhaps the better question isn't \\\"What is the meaning of life?\\\" but rather:\\n\\n**\\\"What gives *my* life meaning?\\\"**\\n\\nThe answer to that question might be found in:\\n\\n*   **Love:** Your connection to family and friends.\\n*   **Purpose:** Your work, your passion, your craft.\\n*   **Contribution:** Leaving the world a little better than you found it.\\n*   **Experience:** Appreciating beauty, learning, growing, and feeling fully alive.\\n*   **Transcendence:** Connecting to something larger than yourself, whether that's nature, a community, a cause, or a spiritual belief.\\n\\nThe meaning of your life is the answer you give to that question, lived out every day.\"\n",
       "              }\n",
       "            ],\n",
       "            \"role\": \"model\"\n",
       "          },\n",
       "          \"finish_reason\": \"STOP\",\n",
       "          \"index\": 0\n",
       "        }\n",
       "      ],\n",
       "      \"usage_metadata\": {\n",
       "        \"prompt_token_count\": 8,\n",
       "        \"candidates_token_count\": 1195,\n",
       "        \"total_token_count\": 2780\n",
       "      },\n",
       "      \"model_version\": \"gemini-2.5-pro\"\n",
       "    }),\n",
       ")"
      ]
     },
     "execution_count": 13,
     "metadata": {},
     "output_type": "execute_result"
    }
   ],
   "source": [
    "response=model.generate_content(\"What is the meaning of life?\")\n",
    "response"
   ]
  },
  {
   "cell_type": "code",
   "execution_count": 14,
   "id": "c34d2190",
   "metadata": {},
   "outputs": [
    {
     "name": "stdout",
     "output_type": "stream",
     "text": [
      "That is perhaps the most profound and persistent question humanity has ever asked. There is no single, universally accepted answer, and the search for one has been the driving force behind philosophy, religion, science, and art for millennia.\n",
      "\n",
      "Instead of providing one answer, it's more helpful to explore the different ways this question has been answered. These perspectives can be seen as different lenses through which to view your own life.\n",
      "\n",
      "### 1. The Philosophical Perspectives\n",
      "\n",
      "Philosophy offers not answers, but frameworks for thinking about the question.\n",
      "\n",
      "*   **Aristotle and Eudaimonia:** For the ancient Greek philosopher Aristotle, the meaning of life isn't about a grand cosmic purpose, but about achieving *Eudaimonia*. This is often translated as \"happiness,\" but it's closer to \"human flourishing.\" A meaningful life is one lived with virtue, reason, and excellence, fulfilling one's potential as a human being.\n",
      "*   **Existentialism (Sartre, Camus):** This modern school of thought proposes that \"existence precedes essence.\" This means you are not born with a pre-ordained purpose. You are born first—you exist—and then it is up to you to create your own meaning and essence through your choices and actions. For the existentialist, the meaning of life is to embrace freedom and live authentically, taking full responsibility for the meaning you build.\n",
      "*   **Stoicism (Marcus Aurelius, Seneca):** For the Stoics, the meaning of life is to live in accordance with nature and reason. It's about focusing on what you can control (your thoughts, your actions) and accepting what you cannot. Meaning is found in virtue, inner peace, and resilience in the face of hardship.\n",
      "*   **Nihilism:** This is the perspective that life has no intrinsic meaning, purpose, or value. While this can sound depressing, some people find it liberating. If there's no pre-written script, you are completely free.\n",
      "\n",
      "### 2. The Religious & Spiritual Perspectives\n",
      "\n",
      "Most religions provide a direct answer to the question, suggesting that meaning is given to us by a higher power.\n",
      "\n",
      "*   **Theistic Religions (Christianity, Islam, Judaism):** In these traditions, the meaning of life is generally to know, love, and serve God. Life is a test, a journey, or a preparation for an afterlife. Meaning is found in faith, following divine commandments, and living a life that is pleasing to the Creator.\n",
      "*   **Eastern Religions (Buddhism, Hinduism):**\n",
      "    *   In **Buddhism**, the purpose of life is to end suffering by eliminating desire and attachment, ultimately achieving a state of enlightenment and liberation known as Nirvana. Meaning is found in compassion, mindfulness, and the path to wisdom.\n",
      "    *   In **Hinduism**, meaning is found in fulfilling one's *dharma* (duty or righteous path), understanding the law of *karma* (action and consequence), and ultimately achieving *moksha* (liberation from the cycle of reincarnation).\n",
      "\n",
      "### 3. The Scientific & Biological Perspective\n",
      "\n",
      "From a purely scientific standpoint, there is no inherent \"meaning\" to life.\n",
      "\n",
      "*   **Evolutionary Biology:** The \"purpose\" of life, in a biological sense, is to survive and reproduce. Organisms are vehicles for genes to pass from one generation to the next. In this view, humans are a product of natural selection, not a grand design.\n",
      "*   **Cosmology:** The universe is vast, ancient, and appears indifferent to our existence. We are a fleeting, accidental phenomenon on a tiny planet. However, some find meaning in this very fact. As the astronomer Carl Sagan said, **\"We are a way for the cosmos to know itself.\"** Meaning can be found in our capacity for wonder, discovery, and understanding the universe we are a part of.\n",
      "\n",
      "### 4. The Humanistic & Psychological Perspective\n",
      "\n",
      "This view focuses on the human experience and our innate drive to find meaning.\n",
      "\n",
      "*   **Viktor Frankl**, a psychiatrist and Holocaust survivor, argued in his book *Man's Search for Meaning* that the primary drive in life is not pleasure, but the discovery and pursuit of what we personally find meaningful. He identified three primary sources of meaning:\n",
      "    1.  **Creation:** By creating a work or doing a deed.\n",
      "    2.  **Connection:** By experiencing something or encountering someone (love).\n",
      "    3.  **Resilience:** By the attitude we take toward unavoidable suffering.\n",
      "*   **Humanism:** This perspective suggests that meaning is found in human relationships, in making the world a better place for the next generation, and in the pursuit of happiness, knowledge, and creativity for ourselves and for others.\n",
      "\n",
      "### So, What is the Answer for You?\n",
      "\n",
      "As you can see, the \"meaning of life\" is not something you *find* like a lost key. It is something you **build**. It is a personal construction.\n",
      "\n",
      "Perhaps the better question isn't \"What is the meaning of life?\" but rather:\n",
      "\n",
      "**\"What gives *my* life meaning?\"**\n",
      "\n",
      "The answer to that question might be found in:\n",
      "\n",
      "*   **Love:** Your connection to family and friends.\n",
      "*   **Purpose:** Your work, your passion, your craft.\n",
      "*   **Contribution:** Leaving the world a little better than you found it.\n",
      "*   **Experience:** Appreciating beauty, learning, growing, and feeling fully alive.\n",
      "*   **Transcendence:** Connecting to something larger than yourself, whether that's nature, a community, a cause, or a spiritual belief.\n",
      "\n",
      "The meaning of your life is the answer you give to that question, lived out every day.\n"
     ]
    }
   ],
   "source": [
    "print(response.text)"
   ]
  },
  {
   "cell_type": "code",
   "execution_count": 15,
   "id": "81e34441",
   "metadata": {},
   "outputs": [
    {
     "data": {
      "text/markdown": [
       ">That is perhaps the most profound and persistent question humanity has ever asked* There is no single, universally accepted answer, and the search for one has been the driving force behind philosophy, religion, science, and art for millennia*\n",
       ">\n",
       ">Instead of providing one answer, it's more helpful to explore the different ways this question has been answered* These perspectives can be seen as different lenses through which to view your own life*\n",
       ">\n",
       ">### 1* The Philosophical Perspectives\n",
       ">\n",
       ">Philosophy offers not answers, but frameworks for thinking about the question*\n",
       ">\n",
       ">*   **Aristotle and Eudaimonia:** For the ancient Greek philosopher Aristotle, the meaning of life isn't about a grand cosmic purpose, but about achieving *Eudaimonia** This is often translated as \"happiness,\" but it's closer to \"human flourishing*\" A meaningful life is one lived with virtue, reason, and excellence, fulfilling one's potential as a human being*\n",
       ">*   **Existentialism (Sartre, Camus):** This modern school of thought proposes that \"existence precedes essence*\" This means you are not born with a pre-ordained purpose* You are born first—you exist—and then it is up to you to create your own meaning and essence through your choices and actions* For the existentialist, the meaning of life is to embrace freedom and live authentically, taking full responsibility for the meaning you build*\n",
       ">*   **Stoicism (Marcus Aurelius, Seneca):** For the Stoics, the meaning of life is to live in accordance with nature and reason* It's about focusing on what you can control (your thoughts, your actions) and accepting what you cannot* Meaning is found in virtue, inner peace, and resilience in the face of hardship*\n",
       ">*   **Nihilism:** This is the perspective that life has no intrinsic meaning, purpose, or value* While this can sound depressing, some people find it liberating* If there's no pre-written script, you are completely free*\n",
       ">\n",
       ">### 2* The Religious & Spiritual Perspectives\n",
       ">\n",
       ">Most religions provide a direct answer to the question, suggesting that meaning is given to us by a higher power*\n",
       ">\n",
       ">*   **Theistic Religions (Christianity, Islam, Judaism):** In these traditions, the meaning of life is generally to know, love, and serve God* Life is a test, a journey, or a preparation for an afterlife* Meaning is found in faith, following divine commandments, and living a life that is pleasing to the Creator*\n",
       ">*   **Eastern Religions (Buddhism, Hinduism):**\n",
       ">    *   In **Buddhism**, the purpose of life is to end suffering by eliminating desire and attachment, ultimately achieving a state of enlightenment and liberation known as Nirvana* Meaning is found in compassion, mindfulness, and the path to wisdom*\n",
       ">    *   In **Hinduism**, meaning is found in fulfilling one's *dharma* (duty or righteous path), understanding the law of *karma* (action and consequence), and ultimately achieving *moksha* (liberation from the cycle of reincarnation)*\n",
       ">\n",
       ">### 3* The Scientific & Biological Perspective\n",
       ">\n",
       ">From a purely scientific standpoint, there is no inherent \"meaning\" to life*\n",
       ">\n",
       ">*   **Evolutionary Biology:** The \"purpose\" of life, in a biological sense, is to survive and reproduce* Organisms are vehicles for genes to pass from one generation to the next* In this view, humans are a product of natural selection, not a grand design*\n",
       ">*   **Cosmology:** The universe is vast, ancient, and appears indifferent to our existence* We are a fleeting, accidental phenomenon on a tiny planet* However, some find meaning in this very fact* As the astronomer Carl Sagan said, **\"We are a way for the cosmos to know itself*\"** Meaning can be found in our capacity for wonder, discovery, and understanding the universe we are a part of*\n",
       ">\n",
       ">### 4* The Humanistic & Psychological Perspective\n",
       ">\n",
       ">This view focuses on the human experience and our innate drive to find meaning*\n",
       ">\n",
       ">*   **Viktor Frankl**, a psychiatrist and Holocaust survivor, argued in his book *Man's Search for Meaning* that the primary drive in life is not pleasure, but the discovery and pursuit of what we personally find meaningful* He identified three primary sources of meaning:\n",
       ">    1*  **Creation:** By creating a work or doing a deed*\n",
       ">    2*  **Connection:** By experiencing something or encountering someone (love)*\n",
       ">    3*  **Resilience:** By the attitude we take toward unavoidable suffering*\n",
       ">*   **Humanism:** This perspective suggests that meaning is found in human relationships, in making the world a better place for the next generation, and in the pursuit of happiness, knowledge, and creativity for ourselves and for others*\n",
       ">\n",
       ">### So, What is the Answer for You?\n",
       ">\n",
       ">As you can see, the \"meaning of life\" is not something you *find* like a lost key* It is something you **build*** It is a personal construction*\n",
       ">\n",
       ">Perhaps the better question isn't \"What is the meaning of life?\" but rather:\n",
       ">\n",
       ">**\"What gives *my* life meaning?\"**\n",
       ">\n",
       ">The answer to that question might be found in:\n",
       ">\n",
       ">*   **Love:** Your connection to family and friends*\n",
       ">*   **Purpose:** Your work, your passion, your craft*\n",
       ">*   **Contribution:** Leaving the world a little better than you found it*\n",
       ">*   **Experience:** Appreciating beauty, learning, growing, and feeling fully alive*\n",
       ">*   **Transcendence:** Connecting to something larger than yourself, whether that's nature, a community, a cause, or a spiritual belief*\n",
       ">\n",
       ">The meaning of your life is the answer you give to that question, lived out every day*"
      ],
      "text/plain": [
       "<IPython.core.display.Markdown object>"
      ]
     },
     "execution_count": 15,
     "metadata": {},
     "output_type": "execute_result"
    }
   ],
   "source": [
    "to_markdown(response.text)"
   ]
  },
  {
   "cell_type": "code",
   "execution_count": 16,
   "id": "f9f237a1",
   "metadata": {},
   "outputs": [
    {
     "data": {
      "text/plain": []
     },
     "execution_count": 16,
     "metadata": {},
     "output_type": "execute_result"
    }
   ],
   "source": [
    "## if api failed use GenerateContentResponse.prompt_feedback to see if it was blocked due to safety concerns regarding the prompt\n",
    "response.prompt_feedback"
   ]
  },
  {
   "cell_type": "code",
   "execution_count": 17,
   "id": "7306e8df",
   "metadata": {},
   "outputs": [
    {
     "data": {
      "text/plain": [
       "[content {\n",
       "  parts {\n",
       "    text: \"That is perhaps the most profound and persistent question humanity has ever asked. There is no single, universally accepted answer, and the search for one has been the driving force behind philosophy, religion, science, and art for millennia.\\n\\nInstead of providing one answer, it\\'s more helpful to explore the different ways this question has been answered. These perspectives can be seen as different lenses through which to view your own life.\\n\\n### 1. The Philosophical Perspectives\\n\\nPhilosophy offers not answers, but frameworks for thinking about the question.\\n\\n*   **Aristotle and Eudaimonia:** For the ancient Greek philosopher Aristotle, the meaning of life isn\\'t about a grand cosmic purpose, but about achieving *Eudaimonia*. This is often translated as \\\"happiness,\\\" but it\\'s closer to \\\"human flourishing.\\\" A meaningful life is one lived with virtue, reason, and excellence, fulfilling one\\'s potential as a human being.\\n*   **Existentialism (Sartre, Camus):** This modern school of thought proposes that \\\"existence precedes essence.\\\" This means you are not born with a pre-ordained purpose. You are born first—you exist—and then it is up to you to create your own meaning and essence through your choices and actions. For the existentialist, the meaning of life is to embrace freedom and live authentically, taking full responsibility for the meaning you build.\\n*   **Stoicism (Marcus Aurelius, Seneca):** For the Stoics, the meaning of life is to live in accordance with nature and reason. It\\'s about focusing on what you can control (your thoughts, your actions) and accepting what you cannot. Meaning is found in virtue, inner peace, and resilience in the face of hardship.\\n*   **Nihilism:** This is the perspective that life has no intrinsic meaning, purpose, or value. While this can sound depressing, some people find it liberating. If there\\'s no pre-written script, you are completely free.\\n\\n### 2. The Religious & Spiritual Perspectives\\n\\nMost religions provide a direct answer to the question, suggesting that meaning is given to us by a higher power.\\n\\n*   **Theistic Religions (Christianity, Islam, Judaism):** In these traditions, the meaning of life is generally to know, love, and serve God. Life is a test, a journey, or a preparation for an afterlife. Meaning is found in faith, following divine commandments, and living a life that is pleasing to the Creator.\\n*   **Eastern Religions (Buddhism, Hinduism):**\\n    *   In **Buddhism**, the purpose of life is to end suffering by eliminating desire and attachment, ultimately achieving a state of enlightenment and liberation known as Nirvana. Meaning is found in compassion, mindfulness, and the path to wisdom.\\n    *   In **Hinduism**, meaning is found in fulfilling one\\'s *dharma* (duty or righteous path), understanding the law of *karma* (action and consequence), and ultimately achieving *moksha* (liberation from the cycle of reincarnation).\\n\\n### 3. The Scientific & Biological Perspective\\n\\nFrom a purely scientific standpoint, there is no inherent \\\"meaning\\\" to life.\\n\\n*   **Evolutionary Biology:** The \\\"purpose\\\" of life, in a biological sense, is to survive and reproduce. Organisms are vehicles for genes to pass from one generation to the next. In this view, humans are a product of natural selection, not a grand design.\\n*   **Cosmology:** The universe is vast, ancient, and appears indifferent to our existence. We are a fleeting, accidental phenomenon on a tiny planet. However, some find meaning in this very fact. As the astronomer Carl Sagan said, **\\\"We are a way for the cosmos to know itself.\\\"** Meaning can be found in our capacity for wonder, discovery, and understanding the universe we are a part of.\\n\\n### 4. The Humanistic & Psychological Perspective\\n\\nThis view focuses on the human experience and our innate drive to find meaning.\\n\\n*   **Viktor Frankl**, a psychiatrist and Holocaust survivor, argued in his book *Man\\'s Search for Meaning* that the primary drive in life is not pleasure, but the discovery and pursuit of what we personally find meaningful. He identified three primary sources of meaning:\\n    1.  **Creation:** By creating a work or doing a deed.\\n    2.  **Connection:** By experiencing something or encountering someone (love).\\n    3.  **Resilience:** By the attitude we take toward unavoidable suffering.\\n*   **Humanism:** This perspective suggests that meaning is found in human relationships, in making the world a better place for the next generation, and in the pursuit of happiness, knowledge, and creativity for ourselves and for others.\\n\\n### So, What is the Answer for You?\\n\\nAs you can see, the \\\"meaning of life\\\" is not something you *find* like a lost key. It is something you **build**. It is a personal construction.\\n\\nPerhaps the better question isn\\'t \\\"What is the meaning of life?\\\" but rather:\\n\\n**\\\"What gives *my* life meaning?\\\"**\\n\\nThe answer to that question might be found in:\\n\\n*   **Love:** Your connection to family and friends.\\n*   **Purpose:** Your work, your passion, your craft.\\n*   **Contribution:** Leaving the world a little better than you found it.\\n*   **Experience:** Appreciating beauty, learning, growing, and feeling fully alive.\\n*   **Transcendence:** Connecting to something larger than yourself, whether that\\'s nature, a community, a cause, or a spiritual belief.\\n\\nThe meaning of your life is the answer you give to that question, lived out every day.\"\n",
       "  }\n",
       "  role: \"model\"\n",
       "}\n",
       "finish_reason: STOP\n",
       "index: 0\n",
       "]"
      ]
     },
     "execution_count": 17,
     "metadata": {},
     "output_type": "execute_result"
    }
   ],
   "source": [
    "## gemini can generate mltiple possible responses for a single prompt\n",
    "## canidates\n",
    "response.candidates"
   ]
  }
 ],
 "metadata": {
  "kernelspec": {
   "display_name": "Python 3",
   "language": "python",
   "name": "python3"
  },
  "language_info": {
   "codemirror_mode": {
    "name": "ipython",
    "version": 3
   },
   "file_extension": ".py",
   "mimetype": "text/x-python",
   "name": "python",
   "nbconvert_exporter": "python",
   "pygments_lexer": "ipython3",
   "version": "3.12.0"
  }
 },
 "nbformat": 4,
 "nbformat_minor": 5
}
